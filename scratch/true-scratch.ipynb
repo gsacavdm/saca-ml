{
 "cells": [
  {
   "cell_type": "code",
   "execution_count": 2,
   "metadata": {},
   "outputs": [],
   "source": [
    "import numpy as np"
   ]
  },
  {
   "cell_type": "code",
   "execution_count": 4,
   "metadata": {},
   "outputs": [],
   "source": [
    "arr = np.array([1.0, 2.0])"
   ]
  },
  {
   "cell_type": "code",
   "execution_count": 11,
   "metadata": {},
   "outputs": [
    {
     "data": {
      "text/plain": [
       "'1.16.2'"
      ]
     },
     "execution_count": 11,
     "metadata": {},
     "output_type": "execute_result"
    }
   ],
   "source": [
    "np.__version__"
   ]
  },
  {
   "cell_type": "code",
   "execution_count": 12,
   "metadata": {},
   "outputs": [],
   "source": [
    "import sys"
   ]
  },
  {
   "cell_type": "code",
   "execution_count": 17,
   "metadata": {},
   "outputs": [
    {
     "name": "stdout",
     "output_type": "stream",
     "text": [
      "total 92\r\n",
      "drwsrwsr-x 1 jovyan users 4096 Apr 15 01:19 .\r\n",
      "drwxr-xr-x 1 root   root  4096 Mar 14 02:54 ..\r\n",
      "-rw------- 1 jovyan users   12 Apr 15 01:19 .bash_history\r\n",
      "-rw-rw-r-- 1 jovyan users  220 Apr  4  2018 .bash_logout\r\n",
      "-rw-rw-r-- 1 jovyan users 3770 Mar 14 02:54 .bashrc\r\n",
      "drwsrwsr-x 1 jovyan users 4096 Apr  7 23:34 .cache\r\n",
      "drwsrwsr-x 1 jovyan users 4096 Mar 14 02:57 .conda\r\n",
      "drwsrws--- 1 jovyan users 4096 Apr  7 01:13 .config\r\n",
      "drwxr-sr-x 3 jovyan users 4096 Apr 13 23:50 coursera\r\n",
      "drwxr-sr-x 3 jovyan users 4096 Apr  7 17:36 deep-learning\r\n",
      "drwxr-sr-x 2 jovyan users 4096 Apr  7 01:09 .ipynb_checkpoints\r\n",
      "drwxr-sr-x 5 jovyan users 4096 Apr  7 01:10 .ipython\r\n",
      "drwsrws--- 2 jovyan users 4096 Apr  1 14:06 .jupyter\r\n",
      "drwxr-sr-x 3 jovyan users 4096 Apr  7 01:13 .keras\r\n",
      "drwxr-sr-x 3 jovyan users 4096 Apr  7 01:08 .local\r\n",
      "-rw-rw-r-- 1 jovyan users  807 Apr  4  2018 .profile\r\n",
      "drwsrwsr-x 1 jovyan users 4096 Apr 14 18:53 scratch\r\n",
      "drwxr-sr-x 4 jovyan users 4096 Apr  8 00:03 tensorflow\r\n",
      "drwsrwsr-x 3 jovyan users 4096 Apr  1 14:04 .yarn\r\n"
     ]
    }
   ],
   "source": [
    "!ls /home/jovyan -al"
   ]
  },
  {
   "cell_type": "code",
   "execution_count": null,
   "metadata": {},
   "outputs": [],
   "source": []
  }
 ],
 "metadata": {
  "kernelspec": {
   "display_name": "Python 3",
   "language": "python",
   "name": "python3"
  },
  "language_info": {
   "codemirror_mode": {
    "name": "ipython",
    "version": 3
   },
   "file_extension": ".py",
   "mimetype": "text/x-python",
   "name": "python",
   "nbconvert_exporter": "python",
   "pygments_lexer": "ipython3",
   "version": "3.7.1"
  }
 },
 "nbformat": 4,
 "nbformat_minor": 2
}
