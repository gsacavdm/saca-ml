{
 "cells": [
  {
   "cell_type": "code",
   "execution_count": 52,
   "metadata": {},
   "outputs": [],
   "source": [
    "import tensorflow as tf\n",
    "from tensorflow import keras\n",
    "\n",
    "import matplotlib.pyplot as plt\n",
    "import numpy as np"
   ]
  },
  {
   "cell_type": "code",
   "execution_count": 4,
   "metadata": {},
   "outputs": [],
   "source": [
    "(train_images, train_labels), (test_images, test_labels) = keras.datasets.fashion_mnist.load_data()"
   ]
  },
  {
   "cell_type": "code",
   "execution_count": 12,
   "metadata": {},
   "outputs": [
    {
     "data": {
      "text/plain": [
       "<matplotlib.image.AxesImage at 0x7f0b7f7a4e48>"
      ]
     },
     "execution_count": 12,
     "metadata": {},
     "output_type": "execute_result"
    },
    {
     "data": {
      "image/png": "[encoded data removed]",
      "text/plain": [
       "<Figure size 432x288 with 1 Axes>"
      ]
     },
     "metadata": {
      "needs_background": "light"
     },
     "output_type": "display_data"
    }
   ],
   "source": [
    "plt.imshow(test_images[0])"
   ]
  },
  {
   "cell_type": "code",
   "execution_count": 15,
   "metadata": {},
   "outputs": [
    {
     "data": {
      "text/plain": [
       "255"
      ]
     },
     "execution_count": 15,
     "metadata": {},
     "output_type": "execute_result"
    }
   ],
   "source": [
    "train_images.max()"
   ]
  },
  {
   "cell_type": "code",
   "execution_count": 16,
   "metadata": {},
   "outputs": [],
   "source": [
    "train_images = train_images / 255.0\n",
    "test_images = test_images / 255."
   ]
  },
  {
   "cell_type": "code",
   "execution_count": 17,
   "metadata": {},
   "outputs": [
    {
     "data": {
      "text/plain": [
       "1.0"
      ]
     },
     "execution_count": 17,
     "metadata": {},
     "output_type": "execute_result"
    }
   ],
   "source": [
    "train_images.max()"
   ]
  },
  {
   "cell_type": "code",
   "execution_count": 65,
   "metadata": {},
   "outputs": [
    {
     "name": "stdout",
     "output_type": "stream",
     "text": [
      "Epoch 1/20\n",
      "60000/60000 [==============================] - 6s 92us/sample - loss: 0.7405\n",
      "Epoch 2/20\n",
      "60000/60000 [==============================] - 5s 77us/sample - loss: 0.5157\n",
      "Epoch 3/20\n",
      "60000/60000 [==============================] - 5s 78us/sample - loss: 0.4706\n",
      "Epoch 4/20\n",
      "60000/60000 [==============================] - 5s 81us/sample - loss: 0.4464\n",
      "Epoch 5/20\n",
      "60000/60000 [==============================] - 5s 76us/sample - loss: 0.4298\n",
      "Epoch 6/20\n",
      "60000/60000 [==============================] - 5s 83us/sample - loss: 0.4167\n",
      "Epoch 7/20\n",
      "60000/60000 [==============================] - 5s 79us/sample - loss: 0.4063\n",
      "Epoch 8/20\n",
      "60000/60000 [==============================] - 5s 81us/sample - loss: 0.3969\n",
      "Epoch 9/20\n",
      "60000/60000 [==============================] - 5s 76us/sample - loss: 0.3879\n",
      "Epoch 10/20\n",
      "60000/60000 [==============================] - 5s 79us/sample - loss: 0.3804\n",
      "Epoch 11/20\n",
      "60000/60000 [==============================] - 5s 81us/sample - loss: 0.3731\n",
      "Epoch 12/20\n",
      "60000/60000 [==============================] - 4s 73us/sample - loss: 0.3668\n",
      "Epoch 13/20\n",
      "60000/60000 [==============================] - 5s 75us/sample - loss: 0.3609\n",
      "Epoch 14/20\n",
      "60000/60000 [==============================] - 5s 83us/sample - loss: 0.3555\n",
      "Epoch 15/20\n",
      "60000/60000 [==============================] - 5s 81us/sample - loss: 0.3504\n",
      "Epoch 16/20\n",
      "60000/60000 [==============================] - 5s 78us/sample - loss: 0.3457\n",
      "Epoch 17/20\n",
      "60000/60000 [==============================] - 5s 78us/sample - loss: 0.3409\n",
      "Epoch 18/20\n",
      "60000/60000 [==============================] - 4s 74us/sample - loss: 0.3360\n",
      "Epoch 19/20\n",
      "60000/60000 [==============================] - 5s 77us/sample - loss: 0.3318\n",
      "Epoch 20/20\n",
      "60000/60000 [==============================] - 4s 75us/sample - loss: 0.3270\n"
     ]
    },
    {
     "data": {
      "text/plain": [
       "<tensorflow.python.keras.callbacks.History at 0x7f0b34939cf8>"
      ]
     },
     "execution_count": 65,
     "metadata": {},
     "output_type": "execute_result"
    }
   ],
   "source": [
    "model = keras.models.Sequential([\n",
    "    keras.layers.Flatten(input_shape=(28,28)),\n",
    "    keras.layers.Dense(128, activation=tf.nn.relu),\n",
    "    keras.layers.Dense(10, activation=tf.nn.softmax)\n",
    "])\n",
    "model.compile(optimizer='sgd', loss='sparse_categorical_crossentropy')\n",
    "#model.optimizer.lr = 0.01 #5-epoch loss: 0.4266\n",
    "#model.optimizer.lr = default #5-epoch loss: 0.4285\n",
    "#model.optimizer.lr = default #10-epoch loss: 0.3713\n",
    "model.fit(train_images, train_labels, epochs=20)"
   ]
  },
  {
   "cell_type": "code",
   "execution_count": 47,
   "metadata": {},
   "outputs": [
    {
     "name": "stdout",
     "output_type": "stream",
     "text": [
      "Epoch 1/5\n",
      "60000/60000 [==============================] - 9s 153us/sample - loss: 0.4946\n",
      "Epoch 2/5\n",
      "60000/60000 [==============================] - 5s 78us/sample - loss: 0.3745\n",
      "Epoch 3/5\n",
      "60000/60000 [==============================] - 4s 73us/sample - loss: 0.3371\n",
      "Epoch 4/5\n",
      "60000/60000 [==============================] - 4s 73us/sample - loss: 0.3126\n",
      "Epoch 5/5\n",
      "60000/60000 [==============================] - 4s 74us/sample - loss: 0.2963\n"
     ]
    },
    {
     "data": {
      "text/plain": [
       "<tensorflow.python.keras.callbacks.History at 0x7f0b5c0a4da0>"
      ]
     },
     "execution_count": 47,
     "metadata": {},
     "output_type": "execute_result"
    }
   ],
   "source": [
    "model2 = keras.models.Sequential([\n",
    "    keras.layers.Flatten(input_shape=(28,28)),\n",
    "    keras.layers.Dense(128, activation=tf.nn.relu),\n",
    "    keras.layers.Dense(10, activation=tf.nn.softmax)\n",
    "])\n",
    "model2.compile(optimizer = tf.train.AdamOptimizer(), loss = 'sparse_categorical_crossentropy')\n",
    "\n",
    "model2.fit(train_images, train_labels, epochs=5)"
   ]
  },
  {
   "cell_type": "code",
   "execution_count": 54,
   "metadata": {},
   "outputs": [
    {
     "data": {
      "text/plain": [
       "2"
      ]
     },
     "execution_count": 54,
     "metadata": {},
     "output_type": "execute_result"
    }
   ],
   "source": [
    "np.argmax(model.predict(test_images[0:1]))"
   ]
  },
  {
   "cell_type": "code",
   "execution_count": 53,
   "metadata": {},
   "outputs": [
    {
     "data": {
      "text/plain": [
       "9"
      ]
     },
     "execution_count": 53,
     "metadata": {},
     "output_type": "execute_result"
    }
   ],
   "source": [
    "np.argmax(model2.predict(test_images[0:1]))"
   ]
  },
  {
   "cell_type": "code",
   "execution_count": 55,
   "metadata": {},
   "outputs": [
    {
     "data": {
      "text/plain": [
       "array([9], dtype=uint8)"
      ]
     },
     "execution_count": 55,
     "metadata": {},
     "output_type": "execute_result"
    }
   ],
   "source": [
    "test_labels[0:1]"
   ]
  },
  {
   "cell_type": "code",
   "execution_count": 60,
   "metadata": {},
   "outputs": [
    {
     "name": "stdout",
     "output_type": "stream",
     "text": [
      "Stochastic gradient descent optimizer.\n",
      "\n",
      "  Includes support for momentum,\n",
      "  learning rate decay, and Nesterov momentum.\n",
      "\n",
      "  Arguments:\n",
      "      lr: float >= 0. Learning rate.\n",
      "      momentum: float >= 0. Parameter that accelerates SGD\n",
      "          in the relevant direction and dampens oscillations.\n",
      "      decay: float >= 0. Learning rate decay over each update.\n",
      "      nesterov: boolean. Whether to apply Nesterov momentum.\n",
      "  \n"
     ]
    }
   ],
   "source": [
    "print(model.optimizer.__doc__)"
   ]
  },
  {
   "cell_type": "code",
   "execution_count": null,
   "metadata": {},
   "outputs": [],
   "source": []
  }
 ],
 "metadata": {
  "kernelspec": {
   "display_name": "Python 3",
   "language": "python",
   "name": "python3"
  },
  "language_info": {
   "codemirror_mode": {
    "name": "ipython",
    "version": 3
   },
   "file_extension": ".py",
   "mimetype": "text/x-python",
   "name": "python",
   "nbconvert_exporter": "python",
   "pygments_lexer": "ipython3",
   "version": "3.7.1"
  }
 },
 "nbformat": 4,
 "nbformat_minor": 2
}
