{
 "cells": [
  {
   "cell_type": "markdown",
   "metadata": {},
   "source": [
    "# Neural Network: Basic Classification\n",
    "\n",
    "*Source: https://www.tensorflow.org/tutorials/keras/basic_classification*"
   ]
  },
  {
   "cell_type": "code",
   "execution_count": 1,
   "metadata": {},
   "outputs": [
    {
     "name": "stdout",
     "output_type": "stream",
     "text": [
      "/opt/conda\r\n"
     ]
    }
   ],
   "source": [
    "import sys\n",
    "!echo {sys.prefix}"
   ]
  },
  {
   "cell_type": "code",
   "execution_count": null,
   "metadata": {},
   "outputs": [
    {
     "name": "stdout",
     "output_type": "stream",
     "text": [
      "Collecting package metadata: done\n",
      "Solving environment: done\n",
      "\n",
      "\n",
      "==> WARNING: A newer version of conda exists. <==\n",
      "  current version: 4.6.8\n",
      "  latest version: 4.6.11\n",
      "\n",
      "Please update conda by running\n",
      "\n",
      "    $ conda update -n base conda\n",
      "\n",
      "\n",
      "\n",
      "## Package Plan ##\n",
      "\n",
      "  environment location: /opt/conda\n",
      "\n",
      "  added / updated specs:\n",
      "    - matplotlib\n",
      "    - numpy\n",
      "    - tensorflow\n",
      "\n",
      "\n",
      "The following packages will be downloaded:\n",
      "\n",
      "    package                    |            build\n",
      "    ---------------------------|-----------------\n",
      "    _tflow_select-2.3.0        |              mkl           2 KB  defaults\n",
      "    absl-py-0.7.1              |           py37_0         154 KB  conda-forge\n",
      "    astor-0.7.1                |             py_0          22 KB  conda-forge\n",
      "    c-ares-1.15.0              |    h14c3975_1001          98 KB  conda-forge\n",
      "    cycler-0.10.0              |             py_1           8 KB  conda-forge\n",
      "    dbus-1.13.2                |       h714fa37_1         554 KB  defaults\n",
      "    expat-2.2.5                |    hf484d3e_1002         185 KB  conda-forge\n",
      "    fontconfig-2.13.1          |    he4413a7_1000         327 KB  conda-forge\n",
      "    freetype-2.10.0            |       he983fc9_0         885 KB  conda-forge\n",
      "    gast-0.2.2                 |             py_0          10 KB  conda-forge\n",
      "    gettext-0.19.8.1           |    hc5be6a0_1002         3.6 MB  conda-forge\n",
      "    glib-2.56.2                |    had28632_1001         4.7 MB  conda-forge\n",
      "    grpcio-1.16.1              |   py37hf8bcb03_1         1.0 MB  defaults\n",
      "    gst-plugins-base-1.14.0    |       hbbd80ab_1         6.3 MB  defaults\n",
      "    gstreamer-1.14.0           |       hb453b48_1         3.8 MB  defaults\n",
      "    h5py-2.9.0                 |nompi_py37hf008753_1102         1.1 MB  conda-forge\n",
      "    hdf5-1.10.4                |nompi_h3c11f04_1106         5.3 MB  conda-forge\n",
      "    icu-58.2                   |    hf484d3e_1000        22.6 MB  conda-forge\n",
      "    jpeg-9c                    |    h14c3975_1001         251 KB  conda-forge\n",
      "    keras-applications-1.0.7   |             py_0          33 KB  defaults\n",
      "    keras-preprocessing-1.0.9  |             py_0          35 KB  defaults\n",
      "    kiwisolver-1.0.1           |py37h6bb024c_1002          84 KB  conda-forge\n",
      "    libblas-3.8.0              |       4_openblas           6 KB  conda-forge\n",
      "    libcblas-3.8.0             |       4_openblas           6 KB  conda-forge\n",
      "    libgfortran-ng-7.3.0       |       hdf63c60_0         1.3 MB  defaults\n",
      "    libiconv-1.15              |    h516909a_1005         2.0 MB  conda-forge\n",
      "    liblapack-3.8.0            |       4_openblas           6 KB  conda-forge\n",
      "    libpng-1.6.36              |    h84994c4_1000         303 KB  conda-forge\n",
      "    libprotobuf-3.7.0          |       h8b12597_2         4.6 MB  conda-forge\n",
      "    libuuid-2.32.1             |    h14c3975_1000          26 KB  conda-forge\n",
      "    libxcb-1.13                |    h14c3975_1002         396 KB  conda-forge\n",
      "    libxml2-2.9.8              |    h143f9aa_1005         2.0 MB  conda-forge\n",
      "    markdown-2.6.11            |             py_0          56 KB  conda-forge\n",
      "    matplotlib-3.0.3           |           py37_0           6 KB  conda-forge\n",
      "    matplotlib-base-3.0.3      |   py37h167e16e_0         6.6 MB  conda-forge\n",
      "    mock-2.0.0                 |        py37_1001         106 KB  conda-forge\n",
      "    numpy-1.16.2               |   py37h8b7e671_1         4.3 MB  conda-forge\n",
      "    openblas-0.3.5             |    h9ac9557_1001        15.8 MB  conda-forge\n",
      "    pbr-5.1.3                  |             py_0          70 KB  conda-forge\n",
      "    pcre-8.43                  |       he6710b0_0         260 KB  defaults\n",
      "    protobuf-3.7.0             |   py37he1b5a44_1         643 KB  conda-forge\n",
      "    pthread-stubs-0.4          |    h14c3975_1001           5 KB  conda-forge\n",
      "    pyparsing-2.3.1            |             py_0          54 KB  conda-forge\n",
      "    pyqt-5.6.0                 |py37h13b7fb3_1008         5.4 MB  conda-forge\n",
      "    qt-5.6.3                   |       h8bf5577_3        45.7 MB  defaults\n",
      "    scipy-1.2.1                |   py37h09a28d5_1        18.1 MB  conda-forge\n",
      "    sip-4.18.1                 |py37hf484d3e_1000         277 KB  conda-forge\n",
      "    tensorboard-1.13.1         |           py37_0         3.3 MB  conda-forge\n",
      "    tensorflow-1.13.1          |mkl_py37h54b294f_0           4 KB  defaults\n",
      "    tensorflow-base-1.13.1     |mkl_py37h7ce6ba3_0       106.7 MB  defaults\n",
      "    tensorflow-estimator-1.13.0|             py_0         205 KB  defaults\n",
      "    termcolor-1.1.0            |             py_2           6 KB  conda-forge\n",
      "    werkzeug-0.15.2            |             py_0         257 KB  conda-forge\n",
      "    xorg-libxau-1.0.9          |       h14c3975_0          13 KB  conda-forge\n",
      "    xorg-libxdmcp-1.1.3        |       h516909a_0          18 KB  conda-forge\n",
      "    ------------------------------------------------------------\n",
      "                                           Total:       269.3 MB\n",
      "\n",
      "The following NEW packages will be INSTALLED:\n",
      "\n",
      "  _tflow_select      pkgs/main/linux-64::_tflow_select-2.3.0-mkl\n",
      "  absl-py            conda-forge/linux-64::absl-py-0.7.1-py37_0\n",
      "  astor              conda-forge/noarch::astor-0.7.1-py_0\n",
      "  c-ares             conda-forge/linux-64::c-ares-1.15.0-h14c3975_1001\n",
      "  cycler             conda-forge/noarch::cycler-0.10.0-py_1\n",
      "  dbus               pkgs/main/linux-64::dbus-1.13.2-h714fa37_1\n",
      "  expat              conda-forge/linux-64::expat-2.2.5-hf484d3e_1002\n",
      "  fontconfig         conda-forge/linux-64::fontconfig-2.13.1-he4413a7_1000\n",
      "  freetype           conda-forge/linux-64::freetype-2.10.0-he983fc9_0\n",
      "  gast               conda-forge/noarch::gast-0.2.2-py_0\n",
      "  gettext            conda-forge/linux-64::gettext-0.19.8.1-hc5be6a0_1002\n",
      "  glib               conda-forge/linux-64::glib-2.56.2-had28632_1001\n",
      "  grpcio             pkgs/main/linux-64::grpcio-1.16.1-py37hf8bcb03_1\n",
      "  gst-plugins-base   pkgs/main/linux-64::gst-plugins-base-1.14.0-hbbd80ab_1\n",
      "  gstreamer          pkgs/main/linux-64::gstreamer-1.14.0-hb453b48_1\n",
      "  h5py               conda-forge/linux-64::h5py-2.9.0-nompi_py37hf008753_1102\n",
      "  hdf5               conda-forge/linux-64::hdf5-1.10.4-nompi_h3c11f04_1106\n",
      "  icu                conda-forge/linux-64::icu-58.2-hf484d3e_1000\n",
      "  jpeg               conda-forge/linux-64::jpeg-9c-h14c3975_1001\n",
      "  keras-applications pkgs/main/noarch::keras-applications-1.0.7-py_0\n",
      "  keras-preprocessi~ pkgs/main/noarch::keras-preprocessing-1.0.9-py_0\n",
      "  kiwisolver         conda-forge/linux-64::kiwisolver-1.0.1-py37h6bb024c_1002\n",
      "  libblas            conda-forge/linux-64::libblas-3.8.0-4_openblas\n",
      "  libcblas           conda-forge/linux-64::libcblas-3.8.0-4_openblas\n",
      "  libgfortran-ng     pkgs/main/linux-64::libgfortran-ng-7.3.0-hdf63c60_0\n",
      "  libiconv           conda-forge/linux-64::libiconv-1.15-h516909a_1005\n",
      "  liblapack          conda-forge/linux-64::liblapack-3.8.0-4_openblas\n",
      "  libpng             conda-forge/linux-64::libpng-1.6.36-h84994c4_1000\n",
      "  libprotobuf        conda-forge/linux-64::libprotobuf-3.7.0-h8b12597_2\n",
      "  libuuid            conda-forge/linux-64::libuuid-2.32.1-h14c3975_1000\n",
      "  libxcb             conda-forge/linux-64::libxcb-1.13-h14c3975_1002\n",
      "  libxml2            conda-forge/linux-64::libxml2-2.9.8-h143f9aa_1005\n",
      "  markdown           conda-forge/noarch::markdown-2.6.11-py_0\n",
      "  matplotlib         conda-forge/linux-64::matplotlib-3.0.3-py37_0\n",
      "  matplotlib-base    conda-forge/linux-64::matplotlib-base-3.0.3-py37h167e16e_0\n",
      "  mock               conda-forge/linux-64::mock-2.0.0-py37_1001\n",
      "  numpy              conda-forge/linux-64::numpy-1.16.2-py37h8b7e671_1\n",
      "  openblas           conda-forge/linux-64::openblas-0.3.5-h9ac9557_1001\n",
      "  pbr                conda-forge/noarch::pbr-5.1.3-py_0\n",
      "  pcre               pkgs/main/linux-64::pcre-8.43-he6710b0_0\n",
      "  protobuf           conda-forge/linux-64::protobuf-3.7.0-py37he1b5a44_1\n",
      "  pthread-stubs      conda-forge/linux-64::pthread-stubs-0.4-h14c3975_1001\n",
      "  pyparsing          conda-forge/noarch::pyparsing-2.3.1-py_0\n",
      "  pyqt               conda-forge/linux-64::pyqt-5.6.0-py37h13b7fb3_1008\n",
      "  qt                 pkgs/main/linux-64::qt-5.6.3-h8bf5577_3\n",
      "  scipy              conda-forge/linux-64::scipy-1.2.1-py37h09a28d5_1\n",
      "  sip                conda-forge/linux-64::sip-4.18.1-py37hf484d3e_1000\n",
      "  tensorboard        conda-forge/linux-64::tensorboard-1.13.1-py37_0\n",
      "  tensorflow         pkgs/main/linux-64::tensorflow-1.13.1-mkl_py37h54b294f_0\n",
      "  tensorflow-base    pkgs/main/linux-64::tensorflow-base-1.13.1-mkl_py37h7ce6ba3_0\n",
      "  tensorflow-estima~ pkgs/main/noarch::tensorflow-estimator-1.13.0-py_0\n",
      "  termcolor          conda-forge/noarch::termcolor-1.1.0-py_2\n",
      "  werkzeug           conda-forge/noarch::werkzeug-0.15.2-py_0\n",
      "  xorg-libxau        conda-forge/linux-64::xorg-libxau-1.0.9-h14c3975_0\n",
      "  xorg-libxdmcp      conda-forge/linux-64::xorg-libxdmcp-1.1.3-h516909a_0\n",
      "\n",
      "\n",
      "\n",
      "Downloading and Extracting Packages\n"
     ]
    },
    {
     "name": "stdout",
     "output_type": "stream",
     "text": [
      "grpcio-1.16.1        | 1.0 MB    | ##################################### | 100% \n",
      "numpy-1.16.2         | 4.3 MB    | ##################################### | 100% \n",
      "jpeg-9c              | 251 KB    | ##################################### | 100% \n",
      "expat-2.2.5          | 185 KB    | ##################################### | 100% \n",
      "gast-0.2.2           | 10 KB     | ##################################### | 100% \n",
      "libiconv-1.15        | 2.0 MB    | ##################################### | 100% \n",
      "pyparsing-2.3.1      | 54 KB     | ##################################### | 100% \n",
      "termcolor-1.1.0      | 6 KB      | ##################################### | 100% \n",
      "_tflow_select-2.3.0  | 2 KB      | ##################################### | 100% \n",
      "keras-preprocessing- | 35 KB     | ##################################### | 100% \n",
      "pbr-5.1.3            | 70 KB     | ##################################### | 100% \n",
      "sip-4.18.1           | 277 KB    | ##################################### | 100% \n",
      "pthread-stubs-0.4    | 5 KB      | ##################################### | 100% \n",
      "hdf5-1.10.4          | 5.3 MB    | ##################################### | 100% \n",
      "libxml2-2.9.8        | 2.0 MB    | ##################################### | 100% \n",
      "tensorboard-1.13.1   | 3.3 MB    | ##################################### | 100% \n",
      "qt-5.6.3             | 45.7 MB   | ##################################### | 100% \n",
      "matplotlib-base-3.0. | 6.6 MB    | ##################################### | 100% \n",
      "kiwisolver-1.0.1     | 84 KB     | ##################################### | 100% \n",
      "tensorflow-estimator | 205 KB    | ##################################### | 100% \n",
      "mock-2.0.0           | 106 KB    | ##################################### | 100% \n",
      "glib-2.56.2          | 4.7 MB    | ##################################### | 100% \n",
      "tensorflow-1.13.1    | 4 KB      | ##################################### | 100% \n",
      "libuuid-2.32.1       | 26 KB     | ##################################### | 100% \n",
      "libgfortran-ng-7.3.0 | 1.3 MB    | ##################################### | 100% \n",
      "protobuf-3.7.0       | 643 KB    | ##################################### | 100% \n",
      "pcre-8.43            | 260 KB    | ##################################### | 100% \n",
      "cycler-0.10.0        | 8 KB      | ##################################### | 100% \n",
      "gettext-0.19.8.1     | 3.6 MB    | ##################################### | 100% \n",
      "libprotobuf-3.7.0    | 4.6 MB    | ##################################### | 100% \n",
      "libcblas-3.8.0       | 6 KB      | ##################################### | 100% \n",
      "c-ares-1.15.0        | 98 KB     | ##################################### | 100% \n",
      "openblas-0.3.5       | 15.8 MB   | ##################################### | 100% \n",
      "libxcb-1.13          | 396 KB    | ##################################### | 100% \n",
      "werkzeug-0.15.2      | 257 KB    | ##################################### | 100% \n",
      "dbus-1.13.2          | 554 KB    | ##################################### | 100% \n",
      "absl-py-0.7.1        | 154 KB    | ##################################### | 100% \n",
      "tensorflow-base-1.13 | 106.7 MB  | ####################################9 | 100% "
     ]
    }
   ],
   "source": [
    "!conda install -p {sys.prefix} tensorflow numpy matplotlib --yes --force-reinstall"
   ]
  },
  {
   "cell_type": "code",
   "execution_count": 5,
   "metadata": {},
   "outputs": [
    {
     "ename": "ImportError",
     "evalue": "cannot import name 'keras' from 'tensorflow' (unknown location)",
     "output_type": "error",
     "traceback": [
      "\u001b[0;31m---------------------------------------------------------------------------\u001b[0m",
      "\u001b[0;31mImportError\u001b[0m                               Traceback (most recent call last)",
      "\u001b[0;32m<ipython-input-5-35c8afbbd8ca>\u001b[0m in \u001b[0;36m<module>\u001b[0;34m\u001b[0m\n\u001b[1;32m      2\u001b[0m \u001b[0;34m\u001b[0m\u001b[0m\n\u001b[1;32m      3\u001b[0m \u001b[0;32mimport\u001b[0m \u001b[0mtensorflow\u001b[0m \u001b[0;32mas\u001b[0m \u001b[0mtf\u001b[0m\u001b[0;34m\u001b[0m\u001b[0;34m\u001b[0m\u001b[0m\n\u001b[0;32m----> 4\u001b[0;31m \u001b[0;32mfrom\u001b[0m \u001b[0mtensorflow\u001b[0m \u001b[0;32mimport\u001b[0m \u001b[0mkeras\u001b[0m\u001b[0;34m\u001b[0m\u001b[0;34m\u001b[0m\u001b[0m\n\u001b[0m\u001b[1;32m      5\u001b[0m \u001b[0;34m\u001b[0m\u001b[0m\n\u001b[1;32m      6\u001b[0m \u001b[0;32mimport\u001b[0m \u001b[0mnumpy\u001b[0m \u001b[0;32mas\u001b[0m \u001b[0mnp\u001b[0m\u001b[0;34m\u001b[0m\u001b[0;34m\u001b[0m\u001b[0m\n",
      "\u001b[0;31mImportError\u001b[0m: cannot import name 'keras' from 'tensorflow' (unknown location)"
     ]
    }
   ],
   "source": [
    "from __future__ import absolute_import, division, print_function\n",
    "\n",
    "import tensorflow as tf\n",
    "from tensorflow import keras\n",
    "\n",
    "import numpy as np\n",
    "import matplotlib.pyplot as plt\n",
    "\n",
    "print(tf.__version__)"
   ]
  },
  {
   "cell_type": "code",
   "execution_count": null,
   "metadata": {},
   "outputs": [],
   "source": [
    "fashion_mnist = keras.datasets.fashion_mnist\n",
    "\n",
    "(train_images, train_labels), (test_images, test_labels) = fashion_mnist.load_data()"
   ]
  },
  {
   "cell_type": "code",
   "execution_count": null,
   "metadata": {},
   "outputs": [],
   "source": [
    "class_names = ['T-shirt/top', 'Trouser', 'Pullover', 'Dress', 'Coat', 'Sandal', 'Shirt', 'Sneaker', 'Bag', 'Ankle boot']"
   ]
  },
  {
   "cell_type": "code",
   "execution_count": null,
   "metadata": {},
   "outputs": [],
   "source": [
    "plt.figure(figsize=(10,10))\n",
    "for i in range(25):\n",
    "    plt.subplot(5,5,i+1)\n",
    "    plt.xticks([])\n",
    "    plt.yticks([])\n",
    "    plt.grid(False)\n",
    "    plt.imshow(train_images[i],cmap=plt.cm.binary)\n",
    "    plt.xlabel(class_names[train_labels[i]])\n",
    "plt.show()"
   ]
  },
  {
   "cell_type": "code",
   "execution_count": null,
   "metadata": {},
   "outputs": [],
   "source": [
    "train_images = train_images / 255.0\n",
    "test_images = test_images / 255.0"
   ]
  },
  {
   "cell_type": "code",
   "execution_count": null,
   "metadata": {},
   "outputs": [],
   "source": [
    "model = keras.Sequential([\n",
    "    keras.layers.Flatten(input_shape=(28,28)),\n",
    "    keras.layers.Dense(128, activation=tf.nn.relu),\n",
    "    keras.layers.Dense(10, activation=tf.nn.softmax)\n",
    "])"
   ]
  },
  {
   "cell_type": "code",
   "execution_count": null,
   "metadata": {},
   "outputs": [],
   "source": [
    "model.compile(optimizer='adam',\n",
    "             loss='sparse_categorical_crossentropy',\n",
    "             metrics=['accuracy'])"
   ]
  },
  {
   "cell_type": "code",
   "execution_count": null,
   "metadata": {},
   "outputs": [],
   "source": [
    "model.fit(train_images, train_labels, epochs=5)"
   ]
  },
  {
   "cell_type": "code",
   "execution_count": null,
   "metadata": {},
   "outputs": [],
   "source": [
    "test_loss, test_acc = model.evaluate(test_images, test_labels)\n",
    "print ('Test accuracy:', test_acc)"
   ]
  },
  {
   "cell_type": "code",
   "execution_count": null,
   "metadata": {},
   "outputs": [],
   "source": [
    "predictions = model.predict(test_images[0:20])"
   ]
  },
  {
   "cell_type": "code",
   "execution_count": null,
   "metadata": {},
   "outputs": [],
   "source": [
    "def plot_image(i, predictions_array, true_label, img):\n",
    "    predictions_array, true_label, img = predictions_array[i], true_label[i], img[i]\n",
    "    plt.grid(False)\n",
    "    plt.xticks([])\n",
    "    plt.yticks([])\n",
    "    \n",
    "    plt.imshow(img, cmap=plt.cm.binary)\n",
    "    \n",
    "    predicted_label = np.argmax(predictions_array)\n",
    "    if predicted_label == true_label:\n",
    "        color = 'blue'\n",
    "    else:\n",
    "        color = 'red'\n",
    "    \n",
    "    plt.xlabel('{} {:2.0f}% ({})'.format(class_names[predicted_label],\n",
    "                                        100*np.max(predictions_array),\n",
    "                                        class_names[true_label]),\n",
    "              color=color)\n",
    "    \n",
    "def plot_value_array(i, predictions_array, true_label):\n",
    "    predictions_array, true_label = predictions_array[i], true_label[i]\n",
    "    plt.grid(False)\n",
    "    plt.xticks([])\n",
    "    plt.yticks([])\n",
    "    thisplot = plt.bar(range(10), predictions_array, color='#777777')\n",
    "    plt.ylim([0,1])\n",
    "    predicted_label = np.argmax(predictions_array)\n",
    "    \n",
    "    thisplot[predicted_label].set_color('red')\n",
    "    thisplot[true_label].set_color('blue')\n"
   ]
  },
  {
   "cell_type": "code",
   "execution_count": null,
   "metadata": {},
   "outputs": [],
   "source": [
    "i = 2\n",
    "plt.figure(figsize=(6,3))\n",
    "plt.subplot(1,2,1)\n",
    "plot_image(i, predictions, test_labels, test_images)\n",
    "plt.subplot(1,2,2)\n",
    "plot_value_array(i, predictions, test_labels)\n",
    "plt.show()"
   ]
  },
  {
   "cell_type": "code",
   "execution_count": null,
   "metadata": {},
   "outputs": [],
   "source": [
    "\n",
    "plt.figure(figsize=(6,3))\n",
    "plt.subplot(1,2,1)\n",
    "plot_image(i, predictions, test_labels, test_images)\n",
    "plt.subplot(1,2,2)\n",
    "plot_value_array(i, predictions, test_labels)\n",
    "plt.show()"
   ]
  },
  {
   "cell_type": "code",
   "execution_count": null,
   "metadata": {},
   "outputs": [],
   "source": [
    "len(predictions)"
   ]
  },
  {
   "cell_type": "code",
   "execution_count": null,
   "metadata": {},
   "outputs": [],
   "source": [
    "num_rows = 5\n",
    "num_cols = 3\n",
    "num_images = num_rows*num_cols\n",
    "\n",
    "plt.figure(figsize=(2*2*num_cols,2*num_rows))\n",
    "\n",
    "for i in range(num_images):\n",
    "    plt.subplot(num_rows, num_cols*2, i*2+1)\n",
    "    plot_image(i, predictions, test_labels, test_images)\n",
    "    plt.subplot(num_rows, num_cols*2, i*2+2)\n",
    "    plot_value_array(i, predictions, test_labels)\n",
    "plt.show()"
   ]
  },
  {
   "cell_type": "code",
   "execution_count": null,
   "metadata": {},
   "outputs": [],
   "source": [
    "img = test_images[0]\n",
    "print(img.shape)\n",
    "\n",
    "img = (np.expand_dims(img,0))\n",
    "print(img.shape)"
   ]
  },
  {
   "cell_type": "code",
   "execution_count": null,
   "metadata": {},
   "outputs": [],
   "source": [
    "predictions_single = model.predict(img)"
   ]
  },
  {
   "cell_type": "code",
   "execution_count": null,
   "metadata": {},
   "outputs": [],
   "source": [
    "plot_value_array(0, predictions_single, test_labels)\n",
    "_ = plt.xticks(range(10), class_names, rotation=45)"
   ]
  },
  {
   "cell_type": "code",
   "execution_count": null,
   "metadata": {},
   "outputs": [],
   "source": []
  }
 ],
 "metadata": {
  "kernelspec": {
   "display_name": "Python 3",
   "language": "python",
   "name": "python3"
  },
  "language_info": {
   "codemirror_mode": {
    "name": "ipython",
    "version": 3
   },
   "file_extension": ".py",
   "mimetype": "text/x-python",
   "name": "python",
   "nbconvert_exporter": "python",
   "pygments_lexer": "ipython3",
   "version": "3.7.1"
  }
 },
 "nbformat": 4,
 "nbformat_minor": 2
}
